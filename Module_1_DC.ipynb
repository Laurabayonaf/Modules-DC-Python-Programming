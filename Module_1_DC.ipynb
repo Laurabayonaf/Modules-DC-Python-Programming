{
  "nbformat": 4,
  "nbformat_minor": 0,
  "metadata": {
    "colab": {
      "name": "Module 1 DC.ipynb",
      "provenance": [],
      "authorship_tag": "ABX9TyPjtZERLYaxsRN+3GuQa4/n",
      "include_colab_link": true
    },
    "kernelspec": {
      "name": "python3",
      "display_name": "Python 3"
    },
    "language_info": {
      "name": "python"
    }
  },
  "cells": [
    {
      "cell_type": "markdown",
      "metadata": {
        "id": "view-in-github",
        "colab_type": "text"
      },
      "source": [
        "<a href=\"https://colab.research.google.com/github/Laurabayonaf/Modules-DC-Python-Programming/blob/main/Module_1_DC.ipynb\" target=\"_parent\"><img src=\"https://colab.research.google.com/assets/colab-badge.svg\" alt=\"Open In Colab\"/></a>"
      ]
    },
    {
      "cell_type": "code",
      "execution_count": null,
      "metadata": {
        "id": "u5Vn_GgorUft"
      },
      "outputs": [],
      "source": [
        "#Taking notes of what is most important\n",
        "#Reviewing topics"
      ]
    },
    {
      "cell_type": "code",
      "source": [
        "#function read_csv\n",
        "# r = read_csv('myfile.csv')\n",
        "\n",
        "#ploting\n",
        "import matplotlib.pyplot as plt\n",
        "\n"
      ],
      "metadata": {
        "id": "Hnw2sGO1rjqi"
      },
      "execution_count": null,
      "outputs": []
    },
    {
      "cell_type": "code",
      "source": [
        "#new line"
      ],
      "metadata": {
        "id": "NqzKe12W3BdK"
      },
      "execution_count": null,
      "outputs": []
    }
  ]
}